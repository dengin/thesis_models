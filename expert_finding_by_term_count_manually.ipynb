{
 "cells": [
  {
   "cell_type": "markdown",
   "metadata": {},
   "source": [
    "<b>Most Similar Document Finding by Term Count With Cosine Similarity</b>"
   ]
  },
  {
   "cell_type": "code",
   "execution_count": 9,
   "metadata": {},
   "outputs": [],
   "source": [
    "import pandas as pd\n",
    "from collections import Counter\n",
    "import nltk\n",
    "import numpy as np\n",
    "np.seterr(divide='ignore', invalid='ignore')\n",
    "\n",
    "def pre_process(document):\n",
    "    words = document.split()\n",
    "    counter_word = Counter(words)        \n",
    "    dict_word_count = nltk.defaultdict(int)\n",
    "    for w in counter_word: \n",
    "        dict_word_count[w] += 1             \n",
    "    return dict_word_count;\n",
    "\n",
    "def calculate_vector_similarity(v1, v2):\n",
    "    vector_dot_product = np.dot(v1, v2)\n",
    "    norm_a = np.linalg.norm(v1)\n",
    "    norm_b = np.linalg.norm(v2)\n",
    "    return float(vector_dot_product / (norm_a * norm_b))\n",
    "\n",
    "def calculate_similarity(file_name, query):\n",
    "    file_dir = \"C://\"\n",
    "    data = pd.read_csv((file_dir + file_name), sep=\";\", encoding=\"utf8\")\n",
    "    data[\"puan\"] = 0.0\n",
    "    data.head()\n",
    "\n",
    "    dict_query = pre_process(query)\n",
    "\n",
    "    list_all_words = []\n",
    "    list_dict_article = []\n",
    "    for w in dict_query:\n",
    "        list_all_words.append(w)\n",
    "\n",
    "    for indice, row in data.iterrows():\n",
    "        dict_article = pre_process(row['icerik'])\n",
    "        list_dict_article.append(dict_article)\n",
    "        for w in dict_article:\n",
    "            list_all_words.append(w)\n",
    "            \n",
    "    total_word_count = len(list_all_words)\n",
    "\n",
    "    print(\"Sözlükteki toplam kelime sayısı: {}\".format(str(total_word_count)))\n",
    "\n",
    "    vector_query = np.zeros(total_word_count, dtype=np.int)\n",
    "    i = 0\n",
    "    for w in list_all_words:\n",
    "        vector_query[i] = dict_query.get(w, 0)\n",
    "        i = i + 1\n",
    "\n",
    "    for indice, row in data.iterrows():            \n",
    "        vector_article = np.zeros(total_word_count, dtype=np.int)\n",
    "        i = 0\n",
    "        for w in list_all_words:\n",
    "            vector_article[i] = list_dict_article[indice].get(w, 0)\n",
    "            i = i + 1\n",
    "\n",
    "        data.at[indice, 'puan'] = calculate_vector_similarity(vector_query, vector_article)\n",
    "        if indice % 200 == 0:\n",
    "            print(\"İşlem yapılan kayıt sırası {}, makale no {}, puan {} \".format(str(indice), str(row['makale_no']), float(row['puan'])))\n",
    "            data[['sira', 'makale_no', 'puan']].to_csv((file_dir + file_name.replace(\".csv\", \"_cosine_score.csv\")), index=False)\n",
    "    data[['sira', 'makale_no', 'puan']].to_csv((file_dir + file_name.replace(\".csv\", \"_cosine_score.csv\"), index=False)"
   ]
  },
  {
   "cell_type": "code",
   "execution_count": null,
   "metadata": {
    "scrolled": true
   },
   "outputs": [],
   "source": [
    "calculate_similarity('icerik_dergipark.csv', 'makine öğrenmesi deep learning expert finding')"
   ]
  },
  {
   "cell_type": "code",
   "execution_count": null,
   "metadata": {},
   "outputs": [],
   "source": [
    "calculate_similarity('icerik_sobiad.csv', 'makine öğrenmesi deep learning expert finding')"
   ]
  }
 ],
 "metadata": {
  "kernelspec": {
   "display_name": "tfgpu",
   "language": "python",
   "name": "tfgpu"
  },
  "language_info": {
   "codemirror_mode": {
    "name": "ipython",
    "version": 3
   },
   "file_extension": ".py",
   "mimetype": "text/x-python",
   "name": "python",
   "nbconvert_exporter": "python",
   "pygments_lexer": "ipython3",
   "version": "3.5.6"
  }
 },
 "nbformat": 4,
 "nbformat_minor": 2
}
