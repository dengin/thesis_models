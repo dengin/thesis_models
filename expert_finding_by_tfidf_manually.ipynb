{
 "cells": [
  {
   "cell_type": "markdown",
   "metadata": {},
   "source": [
    "<b>Most Similar Document Finding by TfIdf</b>"
   ]
  },
  {
   "cell_type": "code",
   "execution_count": 1,
   "metadata": {},
   "outputs": [],
   "source": [
    "import pandas as pd\n",
    "from collections import Counter\n",
    "import nltk\n",
    "import numpy as np\n",
    "np.seterr(divide='ignore', invalid='ignore')\n",
    "import math\n",
    "\n",
    "def pre_process(p_document):\n",
    "    words = p_document.split()\n",
    "    counter_word = Counter(words)        \n",
    "    dict_word_count = nltk.defaultdict(int)\n",
    "    for w in counter_word: \n",
    "        dict_word_count[w] += 1             \n",
    "    return dict_word_count;\n",
    "\n",
    "def tf(p_term, p_document):\n",
    "    return float(p_document.count(p_term)) / len(p_document)\n",
    "\n",
    "def idf(p_term, p_total_word_count, p_data):\n",
    "    article_count = 1\n",
    "    for indice, row in p_data.iterrows():\n",
    "        if p_term in row['icerik']:\n",
    "            article_count += 1\n",
    "    return math.log(p_total_word_count/float(article_count))\n",
    "\n",
    "def tfidf_score(p_query_words, p_article, p_total_word_count, p_df_documents):\n",
    "    result = 0\n",
    "    for w in p_query_words:\n",
    "        result += (tf(w, p_article) * idf(w, p_total_word_count, p_df_documents))\n",
    "    return result\n",
    "    \n",
    "def find_similar_document(p_df_documents, p_query_words):\n",
    "    total_word_count = len(p_query_words)\n",
    "    for indice, row in p_df_documents.iterrows():\n",
    "        dict_doc = pre_process(row['icerik'])\n",
    "        total_word_count += len(dict_doc)\n",
    "\n",
    "    for indice, row in p_df_documents.iterrows():\n",
    "        if indice % 1000 == 0:\n",
    "            print(\"İşlem yapılan makale numarası: \" + str(row['makale_no']))\n",
    "        p_df_documents.at[indice, 'tfidf_skoru'] = tfidf_score(p_query_words, row['icerik'], total_word_count, p_df_documents)\n",
    "    \n",
    "    p_df_documents = p_df_documents.sort_values(by = 'tfidf_skoru', ascending = False)\n",
    "    print(p_df_documents.head(10)[['sira', 'makale_no', 'tfidf_skoru']])"
   ]
  },
  {
   "cell_type": "code",
   "execution_count": 2,
   "metadata": {},
   "outputs": [],
   "source": [
    "query = \"makine öğrenmesi deep learning expert finding\"\n",
    "query_words = query.split()"
   ]
  },
  {
   "cell_type": "code",
   "execution_count": 3,
   "metadata": {},
   "outputs": [
    {
     "data": {
      "text/html": [
       "<div>\n",
       "<style scoped>\n",
       "    .dataframe tbody tr th:only-of-type {\n",
       "        vertical-align: middle;\n",
       "    }\n",
       "\n",
       "    .dataframe tbody tr th {\n",
       "        vertical-align: top;\n",
       "    }\n",
       "\n",
       "    .dataframe thead th {\n",
       "        text-align: right;\n",
       "    }\n",
       "</style>\n",
       "<table border=\"1\" class=\"dataframe\">\n",
       "  <thead>\n",
       "    <tr style=\"text-align: right;\">\n",
       "      <th></th>\n",
       "      <th>sira</th>\n",
       "      <th>makale_no</th>\n",
       "      <th>icerik</th>\n",
       "      <th>tfidf_skoru</th>\n",
       "    </tr>\n",
       "  </thead>\n",
       "  <tbody>\n",
       "    <tr>\n",
       "      <th>0</th>\n",
       "      <td>1</td>\n",
       "      <td>1</td>\n",
       "      <td>determination of ımportant building constructi...</td>\n",
       "      <td>0.0</td>\n",
       "    </tr>\n",
       "    <tr>\n",
       "      <th>1</th>\n",
       "      <td>2</td>\n",
       "      <td>2</td>\n",
       "      <td>damage ıdentification analyses of a historic m...</td>\n",
       "      <td>0.0</td>\n",
       "    </tr>\n",
       "    <tr>\n",
       "      <th>2</th>\n",
       "      <td>3</td>\n",
       "      <td>3</td>\n",
       "      <td>an effective ımproved multiobjective evolution...</td>\n",
       "      <td>0.0</td>\n",
       "    </tr>\n",
       "    <tr>\n",
       "      <th>3</th>\n",
       "      <td>4</td>\n",
       "      <td>4</td>\n",
       "      <td>structural equation model of the factors affec...</td>\n",
       "      <td>0.0</td>\n",
       "    </tr>\n",
       "    <tr>\n",
       "      <th>4</th>\n",
       "      <td>5</td>\n",
       "      <td>5</td>\n",
       "      <td>consolidated undrained monotonic shearing resp...</td>\n",
       "      <td>0.0</td>\n",
       "    </tr>\n",
       "  </tbody>\n",
       "</table>\n",
       "</div>"
      ],
      "text/plain": [
       "   sira  makale_no                                             icerik  \\\n",
       "0     1          1  determination of ımportant building constructi...   \n",
       "1     2          2  damage ıdentification analyses of a historic m...   \n",
       "2     3          3  an effective ımproved multiobjective evolution...   \n",
       "3     4          4  structural equation model of the factors affec...   \n",
       "4     5          5  consolidated undrained monotonic shearing resp...   \n",
       "\n",
       "   tfidf_skoru  \n",
       "0          0.0  \n",
       "1          0.0  \n",
       "2          0.0  \n",
       "3          0.0  \n",
       "4          0.0  "
      ]
     },
     "execution_count": 3,
     "metadata": {},
     "output_type": "execute_result"
    }
   ],
   "source": [
    "df_docs = pd.read_csv((\"C://icerik_dergipark.csv\"), sep=\";\", encoding=\"utf8\")\n",
    "df_docs.loc[:,'tfidf_skoru'] = 0.0\n",
    "df_docs.head()"
   ]
  },
  {
   "cell_type": "code",
   "execution_count": 4,
   "metadata": {},
   "outputs": [
    {
     "data": {
      "text/html": [
       "<div>\n",
       "<style scoped>\n",
       "    .dataframe tbody tr th:only-of-type {\n",
       "        vertical-align: middle;\n",
       "    }\n",
       "\n",
       "    .dataframe tbody tr th {\n",
       "        vertical-align: top;\n",
       "    }\n",
       "\n",
       "    .dataframe thead th {\n",
       "        text-align: right;\n",
       "    }\n",
       "</style>\n",
       "<table border=\"1\" class=\"dataframe\">\n",
       "  <thead>\n",
       "    <tr style=\"text-align: right;\">\n",
       "      <th></th>\n",
       "      <th>sira</th>\n",
       "      <th>makale_no</th>\n",
       "      <th>icerik</th>\n",
       "      <th>tfidf_skoru</th>\n",
       "    </tr>\n",
       "  </thead>\n",
       "  <tbody>\n",
       "    <tr>\n",
       "      <th>0</th>\n",
       "      <td>1</td>\n",
       "      <td>1</td>\n",
       "      <td>bır parametrelı elıptık homotetık düzlemsel ha...</td>\n",
       "      <td>0.0</td>\n",
       "    </tr>\n",
       "    <tr>\n",
       "      <th>1</th>\n",
       "      <td>2</td>\n",
       "      <td>2</td>\n",
       "      <td>total ırregularıty of ındubala product of grap...</td>\n",
       "      <td>0.0</td>\n",
       "    </tr>\n",
       "    <tr>\n",
       "      <th>2</th>\n",
       "      <td>3</td>\n",
       "      <td>3</td>\n",
       "      <td>bir boyutlu kesme problemi için üç amaçlı bir ...</td>\n",
       "      <td>0.0</td>\n",
       "    </tr>\n",
       "    <tr>\n",
       "      <th>3</th>\n",
       "      <td>4</td>\n",
       "      <td>4</td>\n",
       "      <td>güç kalitesindeki bozulma türlerinin sınıfland...</td>\n",
       "      <td>0.0</td>\n",
       "    </tr>\n",
       "    <tr>\n",
       "      <th>4</th>\n",
       "      <td>5</td>\n",
       "      <td>5</td>\n",
       "      <td>bir oluklu mukavva kutu fabrikasında standart ...</td>\n",
       "      <td>0.0</td>\n",
       "    </tr>\n",
       "  </tbody>\n",
       "</table>\n",
       "</div>"
      ],
      "text/plain": [
       "   sira  makale_no                                             icerik  \\\n",
       "0     1          1  bır parametrelı elıptık homotetık düzlemsel ha...   \n",
       "1     2          2  total ırregularıty of ındubala product of grap...   \n",
       "2     3          3  bir boyutlu kesme problemi için üç amaçlı bir ...   \n",
       "3     4          4  güç kalitesindeki bozulma türlerinin sınıfland...   \n",
       "4     5          5  bir oluklu mukavva kutu fabrikasında standart ...   \n",
       "\n",
       "   tfidf_skoru  \n",
       "0          0.0  \n",
       "1          0.0  \n",
       "2          0.0  \n",
       "3          0.0  \n",
       "4          0.0  "
      ]
     },
     "execution_count": 4,
     "metadata": {},
     "output_type": "execute_result"
    }
   ],
   "source": [
    "df_docs_sobiad = pd.read_csv((\"C://icerik_sobiad.csv\"), sep=\";\", encoding=\"utf8\")\n",
    "df_docs_sobiad.loc[:,'tfidf_skoru'] = 0.0\n",
    "df_docs_sobiad.head()"
   ]
  },
  {
   "cell_type": "code",
   "execution_count": null,
   "metadata": {
    "scrolled": true
   },
   "outputs": [],
   "source": [
    "find_similar_document(df_docs, query_words)\n",
    "find_similar_document(df_docs_sobiad, query_words)"
   ]
  },
  {
   "cell_type": "code",
   "execution_count": null,
   "metadata": {},
   "outputs": [],
   "source": [
    "df_docs[['sira', 'makale_no', 'tfidf_skoru']].to_csv(\"C://tfidf_score_dergipark.csv\", index=False)\n",
    "df_docs_sobiad[['sira', 'makale_no', 'tfidf_skoru']].to_csv(\"C://tfidf_score_sobiad.csv\", index=False)"
   ]
  }
 ],
 "metadata": {
  "kernelspec": {
   "display_name": "tfgpu",
   "language": "python",
   "name": "tfgpu"
  },
  "language_info": {
   "codemirror_mode": {
    "name": "ipython",
    "version": 3
   },
   "file_extension": ".py",
   "mimetype": "text/x-python",
   "name": "python",
   "nbconvert_exporter": "python",
   "pygments_lexer": "ipython3",
   "version": "3.5.6"
  }
 },
 "nbformat": 4,
 "nbformat_minor": 4
}
