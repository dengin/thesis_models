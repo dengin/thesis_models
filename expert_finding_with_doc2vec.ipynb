{
 "cells": [
  {
   "cell_type": "markdown",
   "metadata": {},
   "source": [
    "<b>Doc2Vec</b>"
   ]
  },
  {
   "cell_type": "code",
   "execution_count": 19,
   "metadata": {},
   "outputs": [
    {
     "name": "stdout",
     "output_type": "stream",
     "text": [
      "[1, 2, 3, 4, 5, 6, 7, 8, 9, 10]\n"
     ]
    }
   ],
   "source": [
    "import gensim.models as gsm\n",
    "from os import listdir\n",
    "from os.path import isfile, join\n",
    "from gensim.models.doc2vec import TaggedDocument\n",
    "from collections import OrderedDict\n",
    "import pandas as pd\n",
    "\n",
    "class DocIterator(object):\n",
    "    def __init__(self, doc_list, labels_list):\n",
    "        self.labels_list = labels_list\n",
    "        self.doc_list = doc_list\n",
    "\n",
    "    def __iter__(self):\n",
    "        for idx, doc in enumerate(self.doc_list):\n",
    "            yield TaggedDocument(words=doc.split(), tags=[self.labels_list[idx]])\n",
    "\n",
    "data = pd.read_csv(\"C://icerik_dergipark.csv\", sep=\";\", encoding=\"utf8\")\n",
    "documents = data['icerik'].tolist()\n",
    "docLabels = data['makale_no'].tolist()\n",
    "\n",
    "print(docLabels[:10])"
   ]
  },
  {
   "cell_type": "code",
   "execution_count": 20,
   "metadata": {},
   "outputs": [],
   "source": [
    "doc_iter = DocIterator(documents, docLabels)\n",
    "#training\n",
    "model = gsm.Doc2Vec(size=300, window=10, min_count=1, workers=11, alpha=0.025, min_alpha=0.025)\n",
    "model.build_vocab(doc_iter)\n",
    "model.train(doc_iter, total_examples=len(docLabels), epochs=20)"
   ]
  },
  {
   "cell_type": "code",
   "execution_count": 25,
   "metadata": {},
   "outputs": [
    {
     "name": "stdout",
     "output_type": "stream",
     "text": [
      "['makine', 'öğrenmesi', 'deep', 'learning', 'expert', 'finding']\n",
      "Doc2Vec(dm/m,d300,n5,w10,s0.001,t11):\n",
      " [(281, 0.5610900521278381), (5949, 0.5492756366729736), (262, 0.5488751530647278), (267, 0.5481684803962708), (319, 0.5362244844436646)]\n"
     ]
    }
   ],
   "source": [
    "query=\"makine öğrenmesi deep learning expert finding\"\n",
    "query_words = []\n",
    "for i in list(query.split()):\n",
    "    query_words.append(i)    \n",
    "print(query_words)\n",
    "\n",
    "inferred_docvec = model.infer_vector(query_words)\n",
    "model.docvecs.most_similar([inferred_docvec], topn=3)\n",
    "\n",
    "print('%s:\\n %s' % (model, model.docvecs.most_similar(positive=[inferred_docvec], topn=5)))"
   ]
  },
  {
   "cell_type": "code",
   "execution_count": 29,
   "metadata": {},
   "outputs": [
    {
     "data": {
      "text/plain": [
       "212    yenidoğanda karbon monoksit zehirlenmesi cukur...\n",
       "Name: icerik, dtype: object"
      ]
     },
     "execution_count": 29,
     "metadata": {},
     "output_type": "execute_result"
    }
   ],
   "source": [
    "data[data['makale_no'] == 281]['icerik']"
   ]
  }
 ],
 "metadata": {
  "kernelspec": {
   "display_name": "tfgpu",
   "language": "python",
   "name": "tfgpu"
  },
  "language_info": {
   "codemirror_mode": {
    "name": "ipython",
    "version": 3
   },
   "file_extension": ".py",
   "mimetype": "text/x-python",
   "name": "python",
   "nbconvert_exporter": "python",
   "pygments_lexer": "ipython3",
   "version": "3.5.6"
  }
 },
 "nbformat": 4,
 "nbformat_minor": 2
}
